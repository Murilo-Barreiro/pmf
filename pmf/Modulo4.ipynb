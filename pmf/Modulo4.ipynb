{
 "cells": [
  {
   "cell_type": "markdown",
   "metadata": {},
   "source": [
    "---\n",
    "# Módulo 4 - Estatística para MF\n",
    "---"
   ]
  },
  {
   "cell_type": "code",
   "execution_count": 1,
   "metadata": {},
   "outputs": [],
   "source": [
    "import numpy as np\n",
    "import pandas as pd\n",
    "\n",
    "import pylab\n",
    "import statsmodels.api as sm\n",
    "from sklearn import linear_model\n",
    "from scipy import stats\n",
    "from sklearn.linear_model import LinearRegression\n",
    "from statsmodels.stats.multicomp import pairwise_tukeyhsd\n",
    "\n",
    "import yfinance as yf\n",
    "import vectorbt as vbt\n",
    "\n",
    "import seaborn as sns\n",
    "import plotly.graph_objects as go\n",
    "import plotly_express as px\n",
    "import sweetviz as sv\n",
    "from plotly.subplots import make_subplots"
   ]
  },
  {
   "cell_type": "markdown",
   "metadata": {},
   "source": [
    "## 1. **Distribuição dos dados**"
   ]
  },
  {
   "cell_type": "markdown",
   "metadata": {},
   "source": [
    "Distribuição dos dados é o ponto chave para praticamente tudo o que entendemos por estatística\n",
    "\n",
    "Apesar disso, muitas vezes é simplesmente ignorada nos modelos. Muitas vezes, modelos podem \\\n",
    "não funcionar por causa de algumas poucas observações que distorcem a distribuição dos dados."
   ]
  },
  {
   "cell_type": "markdown",
   "metadata": {},
   "source": [
    "### 1.1. Distribuição Normal"
   ]
  },
  {
   "cell_type": "code",
   "execution_count": null,
   "metadata": {},
   "outputs": [],
   "source": [
    "normal_dist = np.random.normal(0, 1, 1000)\n",
    "normal_fig1 = sns.histplot(normal_dist, kde=True)"
   ]
  },
  {
   "cell_type": "code",
   "execution_count": null,
   "metadata": {},
   "outputs": [],
   "source": [
    "print(np.mean(normal_dist))\n",
    "print(np.median(normal_dist))\n",
    "print(stats.mode(normal_dist))"
   ]
  },
  {
   "cell_type": "code",
   "execution_count": null,
   "metadata": {},
   "outputs": [],
   "source": [
    "fig01 = px.histogram(normal_dist, color_discrete_sequence=[\"lightseagreen\"])\n",
    "fig01.add_vline(x=np.mean(normal_dist), line_width=3, line_color=\"red\")\n",
    "fig01.add_vline(\n",
    "    x=np.median(normal_dist), line_width=3, line_dash=\"dash\", line_color=\"red\"\n",
    ")\n",
    "fig01.update_layout(\n",
    "    width=600,\n",
    "    height=600,\n",
    "    template=\"simple_white\",\n",
    "    paper_bgcolor=\"#f7f8fa\",\n",
    "    margin=dict(l=20, r=20, t=20, b=20),\n",
    "    showlegend=False,\n",
    ")"
   ]
  },
  {
   "cell_type": "markdown",
   "metadata": {},
   "source": [
    "#### Testes de Normalidade"
   ]
  },
  {
   "cell_type": "markdown",
   "metadata": {},
   "source": [
    "- À medida que aumenta o uso de grandes volumes de dados, os testes de normalidade vão caindo em desuso, pois eles são sensíveis justamente à quantidade de dados.\n"
   ]
  },
  {
   "cell_type": "code",
   "execution_count": null,
   "metadata": {},
   "outputs": [],
   "source": [
    "stats.normaltest(normal_dist)\n",
    "\n",
    "## pvalue > 0.05 --> normal"
   ]
  },
  {
   "cell_type": "markdown",
   "metadata": {},
   "source": [
    "#### Medidas de posição: quantis"
   ]
  },
  {
   "cell_type": "markdown",
   "metadata": {},
   "source": [
    "Quantis são pontos de corte que dividem um intervalo de distribuição de probabilidade em intervalos contínuos com probabilidades iguais, ou as observações de uma amostra do mesmo jeito."
   ]
  },
  {
   "cell_type": "markdown",
   "metadata": {},
   "source": [
    "<img src=\"https://cdn.scribbr.com/wp-content/uploads/2022/05/Quartiles-probability-distribution.webp\" width=\"800\" align=\"left\"/>"
   ]
  },
  {
   "cell_type": "markdown",
   "metadata": {},
   "source": [
    "#### Quantile - Quantile PLot (Q-Q Plot)"
   ]
  },
  {
   "cell_type": "markdown",
   "metadata": {},
   "source": [
    "Compara os quanits do modelo real (imperfeito) com um modelo teórico (perfeitamente normal)"
   ]
  },
  {
   "cell_type": "code",
   "execution_count": null,
   "metadata": {},
   "outputs": [],
   "source": [
    "stats.probplot(normal_dist, dist=\"norm\", plot=pylab)\n",
    "pylab.show()"
   ]
  },
  {
   "cell_type": "code",
   "execution_count": null,
   "metadata": {},
   "outputs": [],
   "source": [
    "fig02 = go.Figure()\n",
    "fig02.add_trace(\n",
    "    go.Box(\n",
    "        y=normal_dist,\n",
    "        boxpoints=\"all\",\n",
    "        boxmean=\"sd\",\n",
    "        name=\"<b>Normal distribution\",\n",
    "        marker_color=\"blue\",\n",
    "    )\n",
    ")\n",
    "fig02.update_layout(\n",
    "    width=450,\n",
    "    height=600,\n",
    "    template=\"simple_white\",\n",
    "    paper_bgcolor=\"#f7f8fa\",\n",
    "    margin=dict(l=20, r=20, t=20, b=20),\n",
    "    showlegend=False,\n",
    ")\n",
    "\n",
    "print(np.quantile(normal_dist, 0.25))\n",
    "print(np.percentile(normal_dist, 25))\n",
    "fig02.show()"
   ]
  },
  {
   "cell_type": "code",
   "execution_count": null,
   "metadata": {},
   "outputs": [],
   "source": [
    "pd.DataFrame(normal_dist).describe()"
   ]
  },
  {
   "cell_type": "markdown",
   "metadata": {},
   "source": [
    "#### Skewness"
   ]
  },
  {
   "cell_type": "markdown",
   "metadata": {},
   "source": [
    "\n",
    "<img src=\"https://www.biologyforlife.com/uploads/2/2/3/9/22392738/c101b0da6ea1a0dab31f80d9963b0368_orig.png\" width=\"800\" align=\"left\"/>"
   ]
  },
  {
   "cell_type": "code",
   "execution_count": null,
   "metadata": {},
   "outputs": [],
   "source": [
    "stats.skew(normal_dist)"
   ]
  },
  {
   "cell_type": "markdown",
   "metadata": {},
   "source": [
    "#### Medidas de dispersão"
   ]
  },
  {
   "cell_type": "markdown",
   "metadata": {},
   "source": [
    "> Amplitude, desvio-padrão e médio, coef de variação e int de confiança "
   ]
  },
  {
   "cell_type": "code",
   "execution_count": null,
   "metadata": {},
   "outputs": [],
   "source": [
    "# Desvio Padrão\n",
    "# Sharpe ratio, bandas de bollinger\n",
    "\n",
    "np.std(normal_dist, ddof=True)"
   ]
  },
  {
   "cell_type": "code",
   "execution_count": null,
   "metadata": {},
   "outputs": [],
   "source": [
    "# Coef de Variação\n",
    "# Comparar e avaliar a consistência (ex, pagamento de dividendos)\n",
    "\n",
    "np.std(normal_dist, ddof=True) / np.mean(normal_dist) * 100"
   ]
  },
  {
   "cell_type": "code",
   "execution_count": null,
   "metadata": {},
   "outputs": [],
   "source": [
    "# Erro padrão da Média\n",
    "\n",
    "stats.stats.sem(normal_dist)"
   ]
  },
  {
   "cell_type": "code",
   "execution_count": null,
   "metadata": {},
   "outputs": [],
   "source": [
    "# Intervalo de Confiança\n",
    "\n",
    "ic_95 = stats.t.interval(\n",
    "    confidence=0.95,\n",
    "    df=len(normal_dist) - 1,\n",
    "    loc=np.mean(normal_dist),\n",
    "    scale=stats.sem(normal_dist),\n",
    ")\n",
    "ic_95"
   ]
  },
  {
   "cell_type": "markdown",
   "metadata": {},
   "source": [
    "#### Curtose"
   ]
  },
  {
   "cell_type": "markdown",
   "metadata": {},
   "source": [
    "<img src=\"https://www.researchgate.net/profile/Attila-Bonyar/publication/298415862/figure/fig1/AS:340236723867648@1458130164255/Illustration-of-the-skewness-and-kurtosis-values-and-how-they-correlate-with-the-shape-of_W640.jpg\" width=\"600\" align=\"left\"/>"
   ]
  },
  {
   "cell_type": "code",
   "execution_count": null,
   "metadata": {},
   "outputs": [],
   "source": [
    "stats.kurtosis(normal_dist, fisher=True)"
   ]
  },
  {
   "cell_type": "code",
   "execution_count": null,
   "metadata": {},
   "outputs": [],
   "source": [
    "# Variáveis discretas"
   ]
  },
  {
   "cell_type": "markdown",
   "metadata": {},
   "source": [
    "## 2. **Estudo de caso**"
   ]
  },
  {
   "cell_type": "markdown",
   "metadata": {},
   "source": [
    "### MGLU3"
   ]
  },
  {
   "cell_type": "code",
   "execution_count": null,
   "metadata": {},
   "outputs": [],
   "source": [
    "mglu3 = yf.download(\"MGLU3.SA\", period=\"max\")[\"Adj Close\"]"
   ]
  },
  {
   "cell_type": "code",
   "execution_count": null,
   "metadata": {},
   "outputs": [],
   "source": [
    "go.Histogram(x=mglu3)"
   ]
  },
  {
   "cell_type": "code",
   "execution_count": null,
   "metadata": {},
   "outputs": [],
   "source": [
    "fig = make_subplots(rows=1, cols=2)\n",
    "\n",
    "fig.add_trace(go.Histogram(x=mglu3), row=1, col=2)\n",
    "fig.add_vline(x=np.mean(mglu3), line_width=3, line_color=\"red\", row=1, col=2)\n",
    "fig.add_vline(\n",
    "    x=np.median(mglu3), line_width=3, line_dash=\"dash\", line_color=\"red\", row=1, col=2\n",
    ")\n",
    "\n",
    "fig.add_trace(go.Box(y=mglu3, boxpoints=\"all\", boxmean=\"sd\"), row=1, col=1)\n",
    "\n",
    "fig.update_layout(\n",
    "    width=800, height=600, template=\"simple_white\", margin=dict(l=20, r=20, t=20, b=20)\n",
    ")"
   ]
  },
  {
   "cell_type": "markdown",
   "metadata": {},
   "source": [
    "### IBOV"
   ]
  },
  {
   "cell_type": "code",
   "execution_count": null,
   "metadata": {},
   "outputs": [],
   "source": [
    "ibov = yf.download(\"^BVSP\", start=\"2000-01-01\")[\"Adj Close\"]"
   ]
  },
  {
   "cell_type": "code",
   "execution_count": null,
   "metadata": {},
   "outputs": [],
   "source": [
    "fig = px.histogram(ibov, color_discrete_sequence=[\"lightseagreen\"], nbins=100)\n",
    "fig.add_vline(x=np.mean(ibov), line_width=3, line_color=\"black\")\n",
    "fig.add_vline(x=np.median(ibov), line_width=3, line_dash=\"dash\", line_color=\"red\")\n",
    "\n",
    "fig.update_layout(\n",
    "    width=1000,\n",
    "    height=600,\n",
    "    template=\"simple_white\",\n",
    "    margin=dict(l=5, r=5, t=5, b=5),\n",
    "    showlegend=False,\n",
    ")\n",
    "print(\"Fechamento\")\n",
    "fig.show()\n",
    "print(\"Distribuição Trimodal, não reprensenta uma curva normal\")"
   ]
  },
  {
   "cell_type": "code",
   "execution_count": null,
   "metadata": {},
   "outputs": [],
   "source": [
    "stats.probplot(ibov, dist=\"norm\", plot=pylab)\n",
    "pylab.show()"
   ]
  },
  {
   "cell_type": "code",
   "execution_count": null,
   "metadata": {},
   "outputs": [],
   "source": [
    "retorno = ibov.pct_change() * 100"
   ]
  },
  {
   "cell_type": "code",
   "execution_count": null,
   "metadata": {},
   "outputs": [],
   "source": [
    "fig = px.histogram(retorno, color_discrete_sequence=[\"lightseagreen\"])\n",
    "\n",
    "\n",
    "\n",
    "fig.add_vline(x=np.mean(retorno), line_width=3, line_color=\"black\")\n",
    "fig.add_vline(x=retorno.median(), line_width=3, line_dash=\"dash\", line_color=\"red\")\n",
    "\n",
    "fig.update_layout(\n",
    "    width=1000,\n",
    "    height=600,\n",
    "    template=\"simple_white\",\n",
    "    margin=dict(l=5, r=5, t=20, b=5),\n",
    "    showlegend=False,\n",
    ")\n",
    "print(\"Retorno\")\n",
    "fig.show()"
   ]
  },
  {
   "cell_type": "code",
   "execution_count": null,
   "metadata": {},
   "outputs": [],
   "source": [
    "stats.probplot(retorno, dist=\"norm\", plot=pylab)\n",
    "pylab.show()"
   ]
  },
  {
   "cell_type": "markdown",
   "metadata": {},
   "source": [
    "### DY Petro"
   ]
  },
  {
   "cell_type": "code",
   "execution_count": null,
   "metadata": {},
   "outputs": [],
   "source": [
    "div_petro = vbt.YFData.download(\"PETR4.SA\").get([\"Close\", \"Dividends\"])"
   ]
  },
  {
   "cell_type": "code",
   "execution_count": null,
   "metadata": {},
   "outputs": [],
   "source": [
    "div_petro[\"soma_div\"] = div_petro.Dividends.rolling(\"365D\").sum()"
   ]
  },
  {
   "cell_type": "code",
   "execution_count": null,
   "metadata": {},
   "outputs": [],
   "source": [
    "div_petro[\"DY\"] = div_petro[\"soma_div\"] / div_petro[\"Close\"] * 100"
   ]
  },
  {
   "cell_type": "code",
   "execution_count": null,
   "metadata": {},
   "outputs": [],
   "source": [
    "dy_petro = div_petro[div_petro.Dividends != 0]"
   ]
  },
  {
   "cell_type": "code",
   "execution_count": null,
   "metadata": {},
   "outputs": [],
   "source": [
    "sns.histplot(dy_petro.DY, kde=True)"
   ]
  },
  {
   "cell_type": "code",
   "execution_count": null,
   "metadata": {},
   "outputs": [],
   "source": [
    "fig = px.scatter(x=dy_petro.Close, y=dy_petro.DY)\n",
    "fig.update_layout(\n",
    "    width=600,\n",
    "    height=600,\n",
    "    template=\"simple_white\",\n",
    "    margin=dict(l=5, r=20, t=20, b=5),\n",
    "    xaxis_title=\"<b>Price\",\n",
    "    yaxis_title=\"<b>Dividend Yield\",\n",
    ")"
   ]
  },
  {
   "cell_type": "markdown",
   "metadata": {},
   "source": [
    "Correlação (Peason)"
   ]
  },
  {
   "cell_type": "code",
   "execution_count": null,
   "metadata": {},
   "outputs": [],
   "source": [
    "corr, p = stats.pearsonr(dy_petro.Close, dy_petro.DY)\n",
    "print(\"r = %.3f\" % corr, \" p = %.3f\" % p)"
   ]
  },
  {
   "cell_type": "markdown",
   "metadata": {},
   "source": [
    "Correlação (Spearman) \\\n",
    "- Não-paramétrica e não assume distribuição normal"
   ]
  },
  {
   "cell_type": "code",
   "execution_count": null,
   "metadata": {},
   "outputs": [],
   "source": [
    "corr, p = stats.spearmanr(dy_petro.Close, dy_petro.DY)\n",
    "print(\"r = %.3f\" % corr, \" p = %.3f\" % p)"
   ]
  },
  {
   "cell_type": "markdown",
   "metadata": {},
   "source": [
    "### Arbitragem em ações"
   ]
  },
  {
   "cell_type": "code",
   "execution_count": null,
   "metadata": {},
   "outputs": [],
   "source": [
    "petros = yf.download([\"PETR4.SA\", \"PETR3.SA\"], start=\"2010-01-04\")[\"Adj Close\"]"
   ]
  },
  {
   "cell_type": "code",
   "execution_count": null,
   "metadata": {},
   "outputs": [],
   "source": [
    "petros[\"Spread\"] = (petros[\"PETR4.SA\"] / petros[\"PETR3.SA\"]).round(3)"
   ]
  },
  {
   "cell_type": "code",
   "execution_count": null,
   "metadata": {},
   "outputs": [],
   "source": [
    "# Métricas\n",
    "std = np.std(petros.Spread)\n",
    "mean_spread = round(np.mean(petros.Spread), 3)\n",
    "sd1_min_spread = mean_spread - round(std, 3)\n",
    "sd1_max_spread = mean_spread + round(std, 3)\n",
    "sd2_min_spread = mean_spread - (2 * round(std, 3))\n",
    "sd2_max_spread = mean_spread + (2 * round(std, 3))"
   ]
  },
  {
   "cell_type": "code",
   "execution_count": null,
   "metadata": {},
   "outputs": [],
   "source": [
    "fig = px.line(petros, x=petros.index, y=petros.Spread)\n",
    "\n",
    "fig.add_hline(y=mean_spread, line_width=3, line_color=\"red\")\n",
    "fig.add_hline(y=sd1_min_spread, line_width=3, line_color=\"green\", line_dash=\"dot\")\n",
    "fig.add_hline(y=sd1_max_spread, line_width=3, line_color=\"green\", line_dash=\"dot\")\n",
    "fig.add_hline(y=sd2_min_spread, line_width=3, line_color=\"orange\", line_dash=\"dash\")\n",
    "fig.add_hline(y=sd2_max_spread, line_width=3, line_color=\"orange\", line_dash=\"dash\")\n",
    "\n",
    "fig.update_layout(\n",
    "    width=1500,\n",
    "    height=600,\n",
    "    xaxis_rangeslider_visible=False,\n",
    "    title_text=\"Razão entre preço PETR4 e PETR3 (2010 a jul/2024)\",\n",
    "    margin=dict(l=20, r=20, t=70, b=20),\n",
    ")\n",
    "fig"
   ]
  },
  {
   "cell_type": "markdown",
   "metadata": {},
   "source": [
    "## 3. **Médias Móveis**\n"
   ]
  },
  {
   "cell_type": "code",
   "execution_count": null,
   "metadata": {},
   "outputs": [],
   "source": [
    "# Suavização de Curvas\n",
    "\n",
    "petros[\"MM50\"] = petros[\"PETR4.SA\"].rolling(50).mean()"
   ]
  },
  {
   "cell_type": "code",
   "execution_count": null,
   "metadata": {},
   "outputs": [],
   "source": [
    "fig = go.Figure()\n",
    "\n",
    "fig.add_trace(go.Scatter(x=petros.index, y=petros[\"PETR4.SA\"], name=\"PETR4.SA\"))\n",
    "fig.add_trace(go.Scatter(x=petros.index, y=petros[\"MM50\"], name=\"MM 50\"))\n",
    "fig.add_trace(go.Scatter(x=petros.index, y=petros[\"MM20\"], name=\"MM 20\"))\n",
    "\n",
    "fig.update_layout(\n",
    "    width=1200,\n",
    "    height=600,\n",
    "    xaxis_rangeslider_visible=False,\n",
    "    title_text=\"Suavização da Curva de preções PETR4\",\n",
    "    margin=dict(l=10, r=20, b=20, t=60),\n",
    ")"
   ]
  },
  {
   "cell_type": "markdown",
   "metadata": {},
   "source": [
    "### Z Score"
   ]
  },
  {
   "cell_type": "code",
   "execution_count": null,
   "metadata": {},
   "outputs": [],
   "source": [
    "petros['ic95_mm20_lower'] = petros['PETR4.SA'].rolling(20).mean() - 1.96 * petros['PETR4.SA'].rolling(20).std()\n",
    "petros['ic95_mm20_upper'] = petros['PETR4.SA'].rolling(20).mean() + 1.96 * petros['PETR4.SA'].rolling(20).std()"
   ]
  },
  {
   "cell_type": "code",
   "execution_count": null,
   "metadata": {},
   "outputs": [],
   "source": [
    "fig = go.Figure()\n",
    "\n",
    "fig.add_trace(go.Scatter(x=petros.index, y=petros[\"PETR4.SA\"], name=\"PETR4.SA\"))\n",
    "fig.add_trace(go.Scatter(x=petros.index, y=petros[\"MM20\"], name=\"MM 20\"))\n",
    "fig.add_trace(go.Scatter(x=petros.index, y=petros[\"ic95_mm20_lower\"], name=\"IC 95 lower MM 20\"))\n",
    "fig.add_trace(go.Scatter(x=petros.index, y=petros[\"ic95_mm20_upper\"], name=\"IC 95 upper MM 20\"))\n",
    "\n",
    "fig.update_layout(\n",
    "    width=1200,\n",
    "    height=600,\n",
    "    xaxis_rangeslider_visible=False,\n",
    "    title_text=\"Suavização da Curva de preções PETR4\",\n",
    "    margin=dict(l=10, r=20, b=20, t=60),\n",
    ")"
   ]
  },
  {
   "cell_type": "markdown",
   "metadata": {},
   "source": [
    "## Sweetviz"
   ]
  },
  {
   "cell_type": "code",
   "execution_count": null,
   "metadata": {},
   "outputs": [],
   "source": [
    "ticker_IBOV = ['VALE3', 'PETR4', 'WEGE3', 'ITUB4', 'MGLU3',\n",
    "               'BBDC4', 'ABEV3', 'BBAS3', 'ELET3', 'RENT3',\n",
    "               'ITSA4', 'JBSS3', 'SUZB3', 'LREN3', 'EQTL3']"
   ]
  },
  {
   "cell_type": "code",
   "execution_count": null,
   "metadata": {},
   "outputs": [],
   "source": [
    "ticker_IBOV = [x + '.SA' for x in ticker_IBOV]"
   ]
  },
  {
   "cell_type": "code",
   "execution_count": null,
   "metadata": {},
   "outputs": [],
   "source": [
    "ticker_IBOV.extend(['^BVSP', 'BRL=x'])"
   ]
  },
  {
   "cell_type": "code",
   "execution_count": null,
   "metadata": {},
   "outputs": [],
   "source": [
    "data_inicio = '2012-08-23'\n",
    "data_fim = '2023-02-01'"
   ]
  },
  {
   "cell_type": "code",
   "execution_count": null,
   "metadata": {},
   "outputs": [],
   "source": [
    "df = yf.download(ticker_IBOV, start=data_inicio, end=data_fim)['Adj Close']"
   ]
  },
  {
   "cell_type": "code",
   "execution_count": null,
   "metadata": {},
   "outputs": [],
   "source": [
    "view = sv.analyze(df)"
   ]
  },
  {
   "cell_type": "code",
   "execution_count": null,
   "metadata": {},
   "outputs": [],
   "source": [
    "view.show_html('Relatorio.html')"
   ]
  },
  {
   "cell_type": "markdown",
   "metadata": {},
   "source": [
    "## 4. **Tranformações de dados**\n"
   ]
  },
  {
   "cell_type": "markdown",
   "metadata": {},
   "source": [
    "### 4.1 Logarítimica"
   ]
  },
  {
   "cell_type": "markdown",
   "metadata": {},
   "source": [
    "* Comparação de escalas/distribuições diferentes\n",
    "* Permite trabalhar com dados não normais\n",
    "* Avaliar relações não-lineares\n",
    "* Séries temporais longas"
   ]
  },
  {
   "cell_type": "code",
   "execution_count": null,
   "metadata": {},
   "outputs": [],
   "source": [
    "ibov_sp500 = yf.download(['^BVSP','^GSPC'], period='max')['Close']"
   ]
  },
  {
   "cell_type": "code",
   "execution_count": null,
   "metadata": {},
   "outputs": [],
   "source": [
    "def graph01():\n",
    "    fig = go.Figure()\n",
    "\n",
    "    fig.add_trace(go.Scatter(x=ibov_sp500.index, y=ibov_sp500['^GSPC'],\n",
    "                            name='S&P 500', line=dict(color='blue', width=3)))\n",
    "\n",
    "    fig.add_vrect(x0='1973', x1='1985', fillcolor=\"#000000\", opacity=0.25, line_width=0)\n",
    "    fig.add_trace(go.Scatter(x=['1979'],y=[1800],mode=\"text\",text=\"<b>Petróleo e\",textposition=\"top center\",showlegend=False))\n",
    "    fig.add_trace(go.Scatter(x=['1979'],y=[1500],mode=\"text\",text=\"<b>Energia\",textposition=\"top center\",showlegend=False))\n",
    "\n",
    "    fig.add_vrect(x0='2000-06', x1='2003-06', fillcolor=\"blue\", opacity=0.25, line_width=0)\n",
    "    fig.add_trace(go.Scatter(x=['2002-06'],y=[3000],mode=\"text\",text=\"<b>Bolha da\",textposition=\"top center\",showlegend=False))\n",
    "    fig.add_trace(go.Scatter(x=['2002-06'],y=[2700],mode=\"text\",text=\"<b>Internet\",textposition=\"top center\",showlegend=False))\n",
    "\n",
    "    fig.add_vrect(x0='2008', x1='2013', fillcolor=\"green\", opacity=0.25, line_width=0)\n",
    "    fig.add_trace(go.Scatter(x=['2010-06'],y=[4000],mode=\"text\",text=\"<b>Crise\",textposition=\"top center\",showlegend=False))\n",
    "    fig.add_trace(go.Scatter(x=['2010-06'],y=[3700],mode=\"text\",text=\"<b>Subprimes\",textposition=\"top center\",showlegend=False))\n",
    "\n",
    "    fig.add_vrect(x0='2020', x1='2021', fillcolor=\"red\", opacity=0.25, line_width=0)\n",
    "    fig.add_trace(go.Scatter(x=['2021'],y=[4000],mode=\"text\",text=\"<b>COVID-19\",textposition=\"top center\",showlegend=False))\n",
    "\n",
    "    fig.update_layout(title='', xaxis_title=\"<b>Data\", yaxis_title=\"<b>Valor nominal (USD)\", legend_title=\"\",\n",
    "                    font=dict(family=\"Arial, Arial, Arial\",size=20,color=\"black\"),paper_bgcolor=\"#f7f8fa\")\n",
    "\n",
    "    fig.update_layout(xaxis_rangeslider_visible=False, margin=dict(l=120, r=20, t=20, b=20), template = 'simple_white',\n",
    "                    width=1000,height=500,legend=dict(orientation=\"h\",yanchor=\"bottom\",y=0.9,xanchor=\"right\",x=0.15),\n",
    "                    xaxis=dict(range=['1950', '2025']))\n",
    "\n",
    "    fig.show()\n",
    "graph01()"
   ]
  },
  {
   "cell_type": "code",
   "execution_count": null,
   "metadata": {},
   "outputs": [],
   "source": [
    "ibov_sp500['^GSPC'].vbt.drawdowns.plot(width=1000).show()"
   ]
  },
  {
   "cell_type": "code",
   "execution_count": null,
   "metadata": {},
   "outputs": [],
   "source": [
    "def graph02():\n",
    "    fig = go.Figure()\n",
    "\n",
    "    fig.add_trace(go.Scatter(x=ibov_sp500.index, y=np.log(ibov_sp500['^GSPC']),\n",
    "                            name='S&P 500', line=dict(color='blue', width=3)))\n",
    "\n",
    "    fig.add_vrect(x0='1973', x1='1985', fillcolor=\"#000000\", opacity=0.25, line_width=0)\n",
    "    fig.add_trace(go.Scatter(x=['1979'],y=np.log([1800]),mode=\"text\",text=\"<b>Petróleo e\",textposition=\"top center\",showlegend=False))\n",
    "    fig.add_trace(go.Scatter(x=['1979'],y=np.log([1100]),mode=\"text\",text=\"<b>Energia\",textposition=\"top center\",showlegend=False))\n",
    "\n",
    "    fig.add_vrect(x0='2000-06', x1='2003-06', fillcolor=\"blue\", opacity=0.25, line_width=0)\n",
    "    fig.add_trace(go.Scatter(x=['2002-06'],y=np.log([3000]),mode=\"text\",text=\"<b>Bolha da\",textposition=\"top center\",showlegend=False))\n",
    "    fig.add_trace(go.Scatter(x=['2002-06'],y=np.log([2100]),mode=\"text\",text=\"<b>Internet\",textposition=\"top center\",showlegend=False))\n",
    "\n",
    "    fig.add_vrect(x0='2008', x1='2013', fillcolor=\"green\", opacity=0.25, line_width=0)\n",
    "    fig.add_trace(go.Scatter(x=['2010-06'],y=np.log([4000]),mode=\"text\",text=\"<b>Crise\",textposition=\"top center\",showlegend=False))\n",
    "    fig.add_trace(go.Scatter(x=['2010-06'],y=np.log([3100]),mode=\"text\",text=\"<b>Subprimes\",textposition=\"top center\",showlegend=False))\n",
    "\n",
    "    fig.add_vrect(x0='2020', x1='2021', fillcolor=\"red\", opacity=0.25, line_width=0)\n",
    "    fig.add_trace(go.Scatter(x=['2021'],y=np.log([4000]),mode=\"text\",text=\"<b>COVID-19\",textposition=\"top center\",showlegend=False))\n",
    "\n",
    "    fig.update_layout(title='', xaxis_title=\"<b>Data\", yaxis_title=\"<b>Valor nominal (USD)\", legend_title=\"\",\n",
    "                    font=dict(family=\"Arial, Arial, Arial\",size=20,color=\"black\"),paper_bgcolor=\"#f7f8fa\")\n",
    "\n",
    "    fig.update_layout(xaxis_rangeslider_visible=False, margin=dict(l=120, r=20, t=20, b=20), template = 'simple_white',\n",
    "                    width=1000,height=500,legend=dict(orientation=\"h\",yanchor=\"bottom\",y=0.9,xanchor=\"right\",x=0.15),\n",
    "                    xaxis=dict(range=['1950', '2025']))\n",
    "\n",
    "    fig.show()\n",
    "graph02()"
   ]
  },
  {
   "cell_type": "markdown",
   "metadata": {},
   "source": [
    "### 4.2 Normalização"
   ]
  },
  {
   "cell_type": "markdown",
   "metadata": {},
   "source": [
    "Transforma os dados para um mesmo ponto de partida. Utilizado para comparar duas variáveis com diferentes magnitudes"
   ]
  },
  {
   "cell_type": "code",
   "execution_count": null,
   "metadata": {},
   "outputs": [],
   "source": [
    "tickers = yf.download(['^BVSP', '^GSPC'], period = 'max')['Close']"
   ]
  },
  {
   "cell_type": "code",
   "execution_count": null,
   "metadata": {},
   "outputs": [],
   "source": [
    "tickers = tickers.dropna()\n",
    "tickers = tickers[tickers.index >='2000']\n",
    "\n",
    "tickers.plot()"
   ]
  },
  {
   "cell_type": "code",
   "execution_count": null,
   "metadata": {},
   "outputs": [],
   "source": [
    "tickers = tickers/tickers.iloc[0]\n",
    "tickers.plot()"
   ]
  },
  {
   "cell_type": "markdown",
   "metadata": {},
   "source": [
    "### 4.3 Scale "
   ]
  },
  {
   "cell_type": "code",
   "execution_count": null,
   "metadata": {},
   "outputs": [],
   "source": [
    "ativos = ['VALE3.SA', 'PETR4.SA', 'ITUB4.SA']"
   ]
  },
  {
   "cell_type": "code",
   "execution_count": null,
   "metadata": {},
   "outputs": [],
   "source": [
    "vol = vbt.YFData.download(ativos, start='5 year ago', interval = '1d').get('Volume')"
   ]
  },
  {
   "cell_type": "code",
   "execution_count": null,
   "metadata": {},
   "outputs": [],
   "source": [
    "vol.head()"
   ]
  },
  {
   "cell_type": "code",
   "execution_count": null,
   "metadata": {},
   "outputs": [],
   "source": [
    "vol.vbt.histplot().show()"
   ]
  },
  {
   "cell_type": "markdown",
   "metadata": {},
   "source": [
    "Quando as escalas são muito diferentes, a padronização dos dados é uma ótima forma pra compará-los\n",
    "A padronização (scale) transforma os dados de diferentes grandezas para MÉDIA = 0 e VARIÂNCIA = 1"
   ]
  },
  {
   "cell_type": "code",
   "execution_count": null,
   "metadata": {},
   "outputs": [],
   "source": [
    "vol_scale = vol.vbt.scale()\n",
    "\n",
    "vol_scale.vbt.histplot().show()"
   ]
  },
  {
   "cell_type": "markdown",
   "metadata": {},
   "source": [
    "### 4.4 Min Max"
   ]
  },
  {
   "cell_type": "markdown",
   "metadata": {},
   "source": [
    "MINMAX é outra forma de transformação é baseado nos valores máximos e mínimos <p>\n",
    "A padronização de mínimo e máximo (minmax_scale) transforma os dados de diferentes grandezas para MÍNIMO = 0 e MÁXIMO = 1"
   ]
  },
  {
   "cell_type": "code",
   "execution_count": null,
   "metadata": {},
   "outputs": [],
   "source": [
    "vol.vbt.minmax_scale().head()"
   ]
  },
  {
   "cell_type": "code",
   "execution_count": null,
   "metadata": {},
   "outputs": [],
   "source": [
    "vol.vbt.minmax_scale().plot()"
   ]
  },
  {
   "cell_type": "markdown",
   "metadata": {},
   "source": [
    "### 4.5 Binarização"
   ]
  },
  {
   "cell_type": "code",
   "execution_count": null,
   "metadata": {},
   "outputs": [],
   "source": [
    "milho = yf.download('ZC=F', start='2010-01-01', interval='1d')['Close']"
   ]
  },
  {
   "cell_type": "markdown",
   "metadata": {},
   "source": [
    "Binariza os dados utilizando um threshold. Uma especie de filtro"
   ]
  },
  {
   "cell_type": "code",
   "execution_count": null,
   "metadata": {},
   "outputs": [],
   "source": [
    "milho_pct = milho.pct_change()*100\n",
    "milho_pct.dropna(inplace=True)"
   ]
  },
  {
   "cell_type": "code",
   "execution_count": null,
   "metadata": {},
   "outputs": [],
   "source": [
    "milho_th_1 = milho_pct.vbt.binarize(threshold=1)\n",
    "milho_th_1 = pd.DataFrame(milho_th_1)"
   ]
  },
  {
   "cell_type": "code",
   "execution_count": null,
   "metadata": {},
   "outputs": [],
   "source": [
    "milho_th_1[milho_th_1.Close == 1]\n",
    "\n",
    "#Todos os dias que o fechamento foi maior que 1%"
   ]
  },
  {
   "cell_type": "markdown",
   "metadata": {},
   "source": [
    "## 5. Estatística Inferencial"
   ]
  },
  {
   "cell_type": "markdown",
   "metadata": {},
   "source": [
    "A estatística é uma **ciência sobre a incerteza**: probabilidade de um fenômeno ocorrer, desde que satisfeitas um conjunto de condições teóricas\n",
    "\n",
    "Fenômeno/observação comumente estão enviesados \\\n",
    "Baseado no nosso passado e experiências prévias, tendemos a chegar a conclusões distorcidas.\n",
    "\n",
    "A estatística é uma **ciência sobre a incerteza**: probabilidade de um fenômeno ocorrer, desde que satisfeitas um conjunto de condições teóricas"
   ]
  },
  {
   "cell_type": "markdown",
   "metadata": {},
   "source": [
    "Fenômeno/observação comumente estão enviesados\n",
    "\n",
    "\n",
    "Baseado no nosso passado e experiências prévias, tendemos a chegar a conclusões distorcidas."
   ]
  },
  {
   "cell_type": "markdown",
   "metadata": {},
   "source": [
    "Na estatística inferencial, fazemos:\n",
    "\n",
    "* Inferir sobre uma variável da população com base nos dados das amostras (repetições) - é muito difícil estudar a população inteira\n",
    "\n",
    "* Generalizar uma observação a partir de probabilidades"
   ]
  },
  {
   "cell_type": "markdown",
   "metadata": {},
   "source": [
    "### 5.1 Teste de Hipótese, p-valor e magnitude"
   ]
  },
  {
   "cell_type": "markdown",
   "metadata": {},
   "source": [
    "Os **testes de hipótese** são amplamente utilizados em basicamente todas as áreas da ciência, incluindo a medicina, psicologia, finanças, marketing, entre outras, para testar teorias, avaliar o impacto de intervenções ou mudanças e fazer previsões.\n",
    "\n",
    "Elas objetivam fornecer um método que permita verificar se os dados amostrais trazem evidências que apóiam ou não uma hipótese formulada.\n",
    "\n",
    "São complementares aos mais variados testes estatísticos, desde os mais simples como test T, Anova, até os mais complexos, como modelos lineares mistos, logísticos..."
   ]
  },
  {
   "cell_type": "markdown",
   "metadata": {},
   "source": [
    "O processo do teste de hipótese envolve duas hipóteses: a hipótese nula (H0), que é a afirmação a ser testada, e a hipótese alternativa (Ha), que é a afirmação oposta à hipótese nula.\n",
    "\n",
    "Para realizar o teste, é escolhido um nível de significância (geralmente 5% ou 1%) que define o limite para a rejeição da hipótese nula. A partir da amostra, é calculado um valor chamado de estatística de teste, que é comparado a um valor crítico obtido a partir de uma tabela ou calculado através de métodos estatísticos.\n"
   ]
  },
  {
   "cell_type": "markdown",
   "metadata": {},
   "source": [
    "---\n",
    "**Vejamos na prática como funcionam os testes de hipótese?**\n",
    "\n",
    "*Exemplo: Quero saber se as médias dos retornos do IBOV diferem entre os meses do ano*\n"
   ]
  },
  {
   "cell_type": "markdown",
   "metadata": {},
   "source": [
    "**1° passo: determinar as hipóteses nula e alternativa**\n",
    "\n",
    "* Hipótese H0 (nula): As médias dos retornos do IBOV <u>não diferem</u> entre os meses do ano, ou seja, são iguais estatisticamente\n",
    "* Hipótese H1 (alternativa): As médias <u>diferem</u>, são diferentes significativamente"
   ]
  },
  {
   "cell_type": "markdown",
   "metadata": {},
   "source": [
    "**2° passo: definir o nível de significância de teste**"
   ]
  },
  {
   "cell_type": "markdown",
   "metadata": {},
   "source": [
    "<img src=\"https://miro.medium.com/max/1400/1*BwL6FDQ2B3QDKAwmcEVDSg.png\" width=\"500\" align=\"left\"/>\n"
   ]
  },
  {
   "cell_type": "markdown",
   "metadata": {},
   "source": [
    "**3° passo: executar o teste (seja ele qual for), checar o \"valor de p\" para decidir qual hipótese foi corroborada**"
   ]
  },
  {
   "cell_type": "markdown",
   "metadata": {},
   "source": [
    "Se a estatística do teste é menor que o valor crítico, a hipótese nula não é rejeitada, o que significa que não há evidência suficiente para afirmar que a hipótese alternativa é verdadeira.\n",
    "\n",
    "Por outro lado, se a estatística de teste é maior que o valor crítico, a hipótese nula é rejeitada e concluímos que a hipótese alternativa é provável."
   ]
  },
  {
   "cell_type": "markdown",
   "metadata": {},
   "source": [
    "### Valor de p"
   ]
  },
  {
   "cell_type": "markdown",
   "metadata": {},
   "source": [
    "Vamos relembrar que no início do módulo que a estatística enxerga o mundo a partir de duas dimensões:\n",
    "\n",
    "* Magnitude\n",
    "* Probabilidade\n",
    "\n",
    "O teste de hipótese vai se basear no p (probabilidade)\n"
   ]
  },
  {
   "cell_type": "markdown",
   "metadata": {},
   "source": [
    "**p-valor**: associado ao nível de significância do teste. De forma pragmática, é uma medida que representa a probabilidade da hipótese nula ser verdadeira considerando o seu conjunto de dados.\n",
    "\n",
    "\n",
    "\n",
    "> p = 0.05 indica que há uma chance em 1 em 20 de que a hipótese nula seja corroborada. Em outras palavras, 5% de chance de que a relação estudada (resultado do teste estatístico executado) seja devido ao acaso, e não devido a fatores que estão sendo estudados"
   ]
  },
  {
   "cell_type": "markdown",
   "metadata": {},
   "source": [
    "O valor de \"p\" é um número entre 0 e 1 e é interpretado da seguinte forma:\n",
    "\n",
    "* se o valor de p é menor que um nível de significância **pré-definido** (geralmente 0.05 ou 0.01), então a hipótese nula é rejeitada em favor da hipótese alternativa.\n",
    "\n",
    "Por exemplo, se o valor de p for 0.03 e o nível de significância for 0.05, então a hipótese nula será rejeitada, o que significa que há evidências estatísticas para suportar a hipótese alternativa.\n",
    "Quanto menor o valor de p, maior é a evidência contra a hipótese nula (**em termos de probabilidade, mas não de efeito**)."
   ]
  },
  {
   "cell_type": "markdown",
   "metadata": {},
   "source": [
    "### Magnitude do efeito/relação/comparação"
   ]
  },
  {
   "cell_type": "markdown",
   "metadata": {},
   "source": [
    "Além da probablidade de ocorrência, é importante checar o quão forte é o efeito/relação/comparação. Pode ser indicado por diversos parâmetros dependendo do teste, como os coeficiente de correlação (r), coeficiente de determinação (r²), diferença entre as médias (num caso de teste de comparação entre médias)..."
   ]
  },
  {
   "cell_type": "markdown",
   "metadata": {},
   "source": [
    "Imagine que você encontrou que as médias de retorno mensal do ativo A são significativamente (p<0.05) maiores que as do ativo B, mas a diferença é de 0.02%"
   ]
  },
  {
   "cell_type": "markdown",
   "metadata": {},
   "source": [
    "### Ánálises estatísticas em papers"
   ]
  },
  {
   "cell_type": "markdown",
   "metadata": {},
   "source": [
    "**Efeito COVID-19 nos retornos dos principais índices mundiais**\n",
    "\n",
    "https://koreascience.kr/article/JAKO202020952022559.pdf\n",
    "\n",
    "**Efeito COVID-19 nos retornos dos principais índices mundiais**\n",
    "\n",
    "https://koreascience.kr/article/JAKO202020952022559.pdf"
   ]
  },
  {
   "cell_type": "markdown",
   "metadata": {},
   "source": [
    "## 6. **Comparação de médias entre grupos** (_Teste T e Anova_)"
   ]
  },
  {
   "cell_type": "markdown",
   "metadata": {},
   "source": [
    "### 6.1 Cálculo do DY"
   ]
  },
  {
   "cell_type": "code",
   "execution_count": 2,
   "metadata": {},
   "outputs": [],
   "source": [
    "ativos_setor_IBOV = {\"AZUL4\" : \"Bens_industriais\", \"CCRO3\" : \"Bens_industriais\", \"ECOR3\" : \"Bens_industriais\", \"EMBR3\" : \"Bens_industriais\",\n",
    "                     \"GOLL4\" : \"Bens_industriais\", \"RAIL3\" : \"Bens_industriais\", \"WEGE3\" : \"Bens_industriais\",\n",
    "\n",
    "                     \"ALPA4\" : \"Consumo_ciclico\", \"ARZZ3\" : \"Consumo_ciclico\", \"CVCB3\" : \"Consumo_ciclico\", \"CYRE3\" : \"Consumo_ciclico\",\n",
    "                     \"EZTC3\" : \"Consumo_ciclico\", \"LREN3\" : \"Consumo_ciclico\", \"MGLU3\" : \"Consumo_ciclico\", \"MRVE3\" : \"Consumo_ciclico\",\n",
    "                     \"PETZ3\" : \"Consumo_ciclico\", \"SOMA3\" : \"Consumo_ciclico\", \"VIIA3\" : \"Consumo_ciclico\",\n",
    "\n",
    "                     \"ABEV3\" : \"Consumo_nao_ciclico\", \"ASAI3\" : \"Consumo_nao_ciclico\", \"BEEF3\" : \"Consumo_nao_ciclico\",\n",
    "                     \"BRFS3\" : \"Consumo_nao_ciclico\", \"CRFB3\" : \"Consumo_nao_ciclico\", \"JBSS3\" : \"Consumo_nao_ciclico\",\n",
    "                     \"MRFG3\" : \"Consumo_nao_ciclico\", \"NTCO3\" : \"Consumo_nao_ciclico\", \"PCAR3\" : \"Consumo_nao_ciclico\",\n",
    "                     \"RAIZ4\" : \"Consumo_nao_ciclico\", \"SLCE3\" : \"Consumo_nao_ciclico\", \"SMTO3\" : \"Consumo_nao_ciclico\",\n",
    "\n",
    "                     \"ALSO3\" : \"Financeiro_e_outros\", \"B3SA3\" : \"Financeiro_e_outros\", \"BBAS3\" : \"Financeiro_e_outros\",\n",
    "                     \"BBDC3\" : \"Financeiro_e_outros\", \"BBDC4\" : \"Financeiro_e_outros\", \"BBSE3\" : \"Financeiro_e_outros\",\n",
    "                     \"BPAC11\" : \"Financeiro_e_outros\", \"BPAN4\" : \"Financeiro_e_outros\", \"CIEL3\" : \"Financeiro_e_outros\",\n",
    "                     \"IGTI11\" : \"Financeiro_e_outros\", \"ITSA4\" : \"Financeiro_e_outros\", \"ITUB4\" : \"Financeiro_e_outros\",\n",
    "                     \"MULT3\" : \"Financeiro_e_outros\", \"SANB11\" : \"Financeiro_e_outros\",\n",
    "\n",
    "                     \"BRAP4\" : \"Mats_basicos\", \"BRKM5\" : \"Mats_basicos\", \"CMIN3\" : \"Mats_basicos\", \"CSNA3\" : \"Mats_basicos\", \"DXCO3\" : \"Mats_basicos\",\n",
    "                     \"GGBR4\" : \"Mats_basicos\", \"GOAU4\" : \"Mats_basicos\", \"KLBN11\" : \"Mats_basicos\", \"SUZB3\" : \"Mats_basicos\", \"USIM5\" : \"Mats_basicos\",\n",
    "                     \"VALE3\" : \"Mats_basicos\",\n",
    "\n",
    "                     \"CSAN3\" : \"Petroleo_gas_biocombustiveis\", \"PETR3\" : \"Petroleo_gas_biocombustiveis\", \"PETR4\" : \"Petroleo_gas_biocombustiveis\",\n",
    "                     \"PRIO3\" : \"Petroleo_gas_biocombustiveis\", \"RRRP3\" : \"Petroleo_gas_biocombustiveis\", \"UGPA3\" : \"Petroleo_gas_biocombustiveis\",\n",
    "                     \"VBBR3\" : \"Petroleo_gas_biocombustiveis\",\n",
    "\n",
    "                     \"FLRY3\" : \"Saude\", \"HAPV3\" : \"Saude\", \"HYPE3\" : \"Saude\", \"QUAL3\" : \"Saude\", \"RADL3\" : \"Saude\", \"RDOR3\" : \"Saude\",\n",
    "\n",
    "                     \"CMIG4\" : \"Utilidade_publica\", \"CPFE3\" : \"Utilidade_publica\", \"CPLE6\" : \"Utilidade_publica\", \"EGIE3\" : \"Utilidade_publica\",\n",
    "                     \"ELET3\" : \"Utilidade_publica\", \"ELET6\" : \"Utilidade_publica\", \"ENBR3\" : \"Utilidade_publica\", \"ENEV3\" : \"Utilidade_publica\",\n",
    "                     \"ENGI11\" : \"Utilidade_publica\", \"EQTL3\" : \"Utilidade_publica\", \"SBSP3\" : \"Utilidade_publica\", \"TAEE11\" : \"Utilidade_publica\"}"
   ]
  },
  {
   "cell_type": "code",
   "execution_count": 3,
   "metadata": {},
   "outputs": [],
   "source": [
    "lista_ativos_setor =  [i + \".SA\" for i in list(ativos_setor_IBOV.keys())]"
   ]
  },
  {
   "cell_type": "code",
   "execution_count": null,
   "metadata": {},
   "outputs": [],
   "source": [
    "ativos = yf.download(lista_ativos_setor, start='2022-01-01', end = '2022-12-31', actions=True)[['Close', 'Dividends']]"
   ]
  },
  {
   "cell_type": "code",
   "execution_count": 5,
   "metadata": {},
   "outputs": [],
   "source": [
    "soma_div = ativos['Dividends'].sum()"
   ]
  },
  {
   "cell_type": "code",
   "execution_count": 6,
   "metadata": {},
   "outputs": [],
   "source": [
    "close_ativo = ativos['Close'].iloc[-1]"
   ]
  },
  {
   "cell_type": "code",
   "execution_count": 27,
   "metadata": {},
   "outputs": [],
   "source": [
    "dy_2022 = pd.DataFrame(round(soma_div/close_ativo*100, 3), columns=['DY%']).sort_index()\n",
    "dy_2022.index = dy_2022.index.map(lambda x :  x.replace('.SA', \"\"))\n",
    "\n",
    "\n",
    "setores = pd.DataFrame(ativos_setor_IBOV.values(), index=ativos_setor_IBOV.keys(), columns=['Setores']).sort_index().rename_axis(\"Ticker\")\n",
    "\n",
    "dy_por_setor = pd.concat([dy_2022, setores], axis=1)\n",
    "dy_por_setor.dropna(inplace=True)"
   ]
  },
  {
   "cell_type": "markdown",
   "metadata": {},
   "source": [
    "### 6.2 Teste T de Student"
   ]
  },
  {
   "cell_type": "markdown",
   "metadata": {},
   "source": [
    "*Exemplo: existe diferença significativa entre os setores \"Utilidade Pública\" e \"Financeiro e outros\" do IBOV quanto à média de Dividend Yield (%) para 2022?*"
   ]
  },
  {
   "cell_type": "markdown",
   "metadata": {},
   "source": [
    "* Hipótese H0 (nula): As médias de DY não diferem entre os dois setores\n",
    "* Hipótese H1 (alternativa): As médias são diferentes estatisticamente"
   ]
  },
  {
   "cell_type": "markdown",
   "metadata": {},
   "source": [
    "##### **Testar a premissa de que os dados de cada grupo são normais**\n",
    "\n",
    "*Lembrando que no teste de normalidade a hipótese H0 é de que os dados são normais, ou seja, buscaremos um p>0.05 para não rejeitar H0*"
   ]
  },
  {
   "cell_type": "code",
   "execution_count": 28,
   "metadata": {},
   "outputs": [],
   "source": [
    "teste_t = dy_por_setor[(dy_por_setor['Setores'] == 'Utilidade_publica') | (dy_por_setor['Setores'] == 'Financeiro_e_outros')]"
   ]
  },
  {
   "cell_type": "code",
   "execution_count": null,
   "metadata": {},
   "outputs": [],
   "source": [
    "dados_up = teste_t[(teste_t['Setores'] == 'Utilidade_publica')]['DY%']\n",
    "teste_normalidade_g1 = stats.normaltest(dados_up)\n",
    "teste_normalidade_g1"
   ]
  },
  {
   "cell_type": "code",
   "execution_count": null,
   "metadata": {},
   "outputs": [],
   "source": [
    "dados_fo = teste_t[(teste_t['Setores'] == 'Financeiro_e_outros')]['DY%']\n",
    "teste_normalidade_g2 = stats.normaltest(dados_fo)\n",
    "teste_normalidade_g2"
   ]
  },
  {
   "cell_type": "code",
   "execution_count": null,
   "metadata": {},
   "outputs": [],
   "source": [
    "teste_t_mean_std = pd.pivot_table(teste_t, index=['Setores'], values=['DY%'], aggfunc=[np.mean, np.std]).droplevel(1, axis=1)\n",
    "teste_t_mean_std"
   ]
  },
  {
   "cell_type": "code",
   "execution_count": null,
   "metadata": {},
   "outputs": [],
   "source": [
    "fig = go.Figure()\n",
    "\n",
    "fig.add_trace(go.Bar(name='Média e Desvio', x=teste_t_mean_std.index, y=teste_t_mean_std['mean'],\n",
    "                     error_y=dict(type='data', array=teste_t_mean_std['std']),\n",
    "                     marker_color='red', orientation='v'))\n",
    "\n",
    "fig.update_layout(title_text='<b>Dividend Yield (média \\xB1 erro padrão da média) <br> em 2022 entre dois setores do IBOV', xaxis_title= '<b>Setor IBOV',\n",
    "                  yaxis_title= '<b>Dividend Yield (%)', template=\"none\", margin=dict(l=75, r=20, t=100, b=50),\n",
    "                  paper_bgcolor=\"#f7f8fa\", font=dict(family=\"Arial\", size=15, color=\"black\"), width=600, height=400)\n",
    "\n",
    "fig.show()"
   ]
  }
 ],
 "metadata": {
  "kernelspec": {
   "display_name": "base",
   "language": "python",
   "name": "python3"
  },
  "language_info": {
   "codemirror_mode": {
    "name": "ipython",
    "version": 3
   },
   "file_extension": ".py",
   "mimetype": "text/x-python",
   "name": "python",
   "nbconvert_exporter": "python",
   "pygments_lexer": "ipython3",
   "version": "3.11.5"
  }
 },
 "nbformat": 4,
 "nbformat_minor": 2
}
