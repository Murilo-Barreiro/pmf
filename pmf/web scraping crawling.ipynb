{
 "cells": [
  {
   "cell_type": "code",
   "execution_count": 4,
   "metadata": {},
   "outputs": [
    {
     "ename": "SyntaxError",
     "evalue": "invalid syntax (403376090.py, line 1)",
     "output_type": "error",
     "traceback": [
      "\u001b[1;36m  Cell \u001b[1;32mIn[4], line 1\u001b[1;36m\u001b[0m\n\u001b[1;33m    <html>\u001b[0m\n\u001b[1;37m    ^\u001b[0m\n\u001b[1;31mSyntaxError\u001b[0m\u001b[1;31m:\u001b[0m invalid syntax\n"
     ]
    }
   ],
   "source": [
    "```html\n",
    "<!DOCTYPE html>\n",
    "<html>\n",
    "    <head>\n",
    "        <title>Page Title</title>\n",
    "    </head>\n",
    "\n",
    "    <body>\n",
    "    \n",
    "        <div>\n",
    "            <h1>Isto é um título</h1>\n",
    "            <p>Isto é um parágrafo</p>\n",
    "            <a href='https://www.google.com.br'>Link do google</a>\n",
    "        </div>\n",
    "\n",
    "        <div>\n",
    "            <h2>Lista não ordenada</h2>\n",
    "\n",
    "            <ul>\n",
    "                <li>Café</li>\n",
    "                <li>Chá</li>\n",
    "                <li>Leite</li>\n",
    "            </ul>  \n",
    "\n",
    "            <h2>Lista ordenada</h2>\n",
    "\n",
    "            <ol>\n",
    "                <li>Café</li>\n",
    "                <li>Chá</li>\n",
    "                <li>Leite</li>\n",
    "            </ol>  \n",
    "        </div>\n",
    "\n",
    "        <div>\n",
    "            <h2>Exemplo de uma tabela</h2>\n",
    "\n",
    "            <table>\n",
    "                <tr>\n",
    "                    <th>Nome</th>\n",
    "                    <th>Sobrenome</th>\n",
    "                    <th>Idade</th>\n",
    "                </tr>\n",
    "                <tr>\n",
    "                    <td>Jill</td>\n",
    "                    <td>Smith</td>\n",
    "                    <td>50</td>\n",
    "                </tr>\n",
    "                <tr>\n",
    "                    <td>Eve</td>\n",
    "                    <td>Jackson</td>\n",
    "                    <td>94</td>\n",
    "                </tr>\n",
    "            </table> \n",
    "        </div>\n",
    "        \n",
    "    </body>\n",
    "</html>\n",
    "```"
   ]
  }
 ],
 "metadata": {
  "kernelspec": {
   "display_name": "base",
   "language": "python",
   "name": "python3"
  },
  "language_info": {
   "codemirror_mode": {
    "name": "ipython",
    "version": 3
   },
   "file_extension": ".py",
   "mimetype": "text/x-python",
   "name": "python",
   "nbconvert_exporter": "python",
   "pygments_lexer": "ipython3",
   "version": "3.11.5"
  }
 },
 "nbformat": 4,
 "nbformat_minor": 2
}
